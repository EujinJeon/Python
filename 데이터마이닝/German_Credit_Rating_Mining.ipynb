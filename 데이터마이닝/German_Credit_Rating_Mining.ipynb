{
 "cells": [
  {
   "cell_type": "code",
   "execution_count": 46,
   "metadata": {},
   "outputs": [],
   "source": [
    "import numpy as np\n",
    "import pandas as pd\n",
    "from sklearn.linear_model import LogisticRegression\n",
    "import matplotlib.pyplot as plt\n",
    "from sklearn.model_selection import train_test_split\n",
    "from sklearn.preprocessing import StandardScaler\n",
    "%matplotlib inline"
   ]
  },
  {
   "cell_type": "code",
   "execution_count": 47,
   "metadata": {},
   "outputs": [],
   "source": [
    "df = pd.read_csv('german.csv') #독일신용평가데이터\n",
    "#비어있는 데이터 평균치로 채우기\n",
    "df['MonthlyIncome'].fillna(value=df['MonthlyIncome'].mean(), inplace=True)\n",
    "df['NumberOfDependents'].fillna(value=df['NumberOfDependents'].mean(), inplace=True)"
   ]
  },
  {
   "cell_type": "code",
   "execution_count": 48,
   "metadata": {},
   "outputs": [],
   "source": [
    "#데이터 분류\n",
    "features = df[['RevolvingUtilizationOfUnsecuredLines','age','59DaysPastDueNotWorse','DebtRatio',\n",
    "'MonthlyIncome','NumberOfOpenCreditLinesAndLoans', 'NumberOfTimes90DaysLate',\n",
    "'NumberRealEstateLoansOrLines','89DaysPastDueNotWorse','NumberOfDependents']]\n",
    "worse = df['Worse']\n",
    "train_features, test_features, train_labels, test_labels = train_test_split(features, worse)"
   ]
  },
  {
   "cell_type": "code",
   "execution_count": 49,
   "metadata": {},
   "outputs": [],
   "source": [
    "#데이터 스케일링 작업\n",
    "scaler = StandardScaler()\n",
    "train_features = scaler.fit_transform(train_features)\n",
    "test_features = scaler.transform(test_features)"
   ]
  },
  {
   "cell_type": "code",
   "execution_count": 50,
   "metadata": {},
   "outputs": [
    {
     "name": "stdout",
     "output_type": "stream",
     "text": [
      "훈련 데이터 정확도 : 0.9338311111111111\n",
      "테스트 데이터 정확도 : 0.934\n"
     ]
    }
   ],
   "source": [
    "#모델 생성\n",
    "model = LogisticRegression()\n",
    "model.fit(train_features, train_labels)\n",
    "print(\"훈련 데이터 정확도 : \" + str(model.score(train_features, train_labels)))\n",
    "print(\"테스트 데이터 정확도 : \" + str(model.score(test_features, test_labels)))"
   ]
  },
  {
   "cell_type": "code",
   "execution_count": 45,
   "metadata": {},
   "outputs": [
    {
     "name": "stdout",
     "output_type": "stream",
     "text": [
      "[[-0.00397787 -0.42261036  2.02204317 -0.04060423 -0.41465149 -0.04060333\n",
      "   1.88228244  0.07241396 -3.75075226  0.1056979 ]]\n"
     ]
    }
   ],
   "source": [
    "#각 독립변수들의 계수\n",
    "print(model.coef_)"
   ]
  },
  {
   "cell_type": "code",
   "execution_count": 62,
   "metadata": {},
   "outputs": [
    {
     "name": "stdout",
     "output_type": "stream",
     "text": [
      "30개 테스트 데이터 예측 결과 : [0 0 0 0 0 0 0 0 0 1 0 0 0 0 0 0 0 0 0 0 0 0 0 0 0 0 0 0 0 0]\n",
      "확률 : [[0.94003019 0.05996981]\n",
      " [0.94954652 0.05045348]\n",
      " [0.95205804 0.04794196]\n",
      " [0.8751248  0.1248752 ]\n",
      " [0.89453468 0.10546532]\n",
      " [0.95980101 0.04019899]\n",
      " [0.92391053 0.07608947]\n",
      " [0.9562458  0.0437542 ]\n",
      " [0.9706151  0.0293849 ]\n",
      " [0.23269894 0.76730106]\n",
      " [0.92540596 0.07459404]\n",
      " [0.94579531 0.05420469]\n",
      " [0.96944688 0.03055312]\n",
      " [0.90150412 0.09849588]\n",
      " [0.95557348 0.04442652]\n",
      " [0.91661734 0.08338266]\n",
      " [0.96823457 0.03176543]\n",
      " [0.92379466 0.07620534]\n",
      " [0.95757022 0.04242978]\n",
      " [0.93953388 0.06046612]\n",
      " [0.94704438 0.05295562]\n",
      " [0.97020124 0.02979876]\n",
      " [0.96769949 0.03230051]\n",
      " [0.94037523 0.05962477]\n",
      " [0.91694056 0.08305944]\n",
      " [0.95393056 0.04606944]\n",
      " [0.9350788  0.0649212 ]\n",
      " [0.97063063 0.02936937]\n",
      " [0.9147581  0.0852419 ]\n",
      " [0.94413362 0.05586638]]\n"
     ]
    }
   ],
   "source": [
    "#예측\n",
    "t_data = pd.read_csv('german_test.csv')\n",
    "t_data['MonthlyIncome'].fillna(value=t_data['MonthlyIncome'].mean(), inplace=True)\n",
    "t_data['NumberOfDependents'].fillna(value=t_data['NumberOfDependents'].mean(), inplace=True)\n",
    "input_data = t_data[['RevolvingUtilizationOfUnsecuredLines','age','59DaysPastDueNotWorse','DebtRatio',\n",
    "'MonthlyIncome','NumberOfOpenCreditLinesAndLoans', 'NumberOfTimes90DaysLate',\n",
    "'NumberRealEstateLoansOrLines','89DaysPastDueNotWorse','NumberOfDependents']]\n",
    "\n",
    "input_data = scaler.transform(input_data.head(30))\n",
    "\n",
    "print(\"30개 테스트 데이터 예측 결과 : \" + str(model.predict(input_data)))\n",
    "print(\"확률 : \" + str(model.predict_proba(input_data)))"
   ]
  }
 ],
 "metadata": {
  "kernelspec": {
   "display_name": "Python 3.10.6 64-bit",
   "language": "python",
   "name": "python3"
  },
  "language_info": {
   "codemirror_mode": {
    "name": "ipython",
    "version": 3
   },
   "file_extension": ".py",
   "mimetype": "text/x-python",
   "name": "python",
   "nbconvert_exporter": "python",
   "pygments_lexer": "ipython3",
   "version": "3.10.6"
  },
  "orig_nbformat": 4,
  "vscode": {
   "interpreter": {
    "hash": "c19fa61d258bb2b35aae2ada233c33e2817c1ce895aa48acba720c6bf7cbe3cb"
   }
  }
 },
 "nbformat": 4,
 "nbformat_minor": 2
}
